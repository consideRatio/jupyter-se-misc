{
 "cells": [
  {
   "cell_type": "markdown",
   "metadata": {},
   "source": [
    "# Kodlabb - *Gradient descent*\n",
    "\n",
    "### Förkunskaper\n",
    "- Matte 3: Derivata"
   ]
  },
  {
   "cell_type": "markdown",
   "metadata": {},
   "source": [
    "# Inledning\n",
    "En dator gör enbart det vi säger åt den med vår programmering, men det går att be en dator att utforska hur väl en viss programkod presterar och att söka efter den bästa versionen av programkoden. Detta är _maskininlärning_ (ML), och den bästa versionen av programkoden är den _artificiella intelligensen_ (AI).\n",
    "\n",
    "Maskininlärning är ofta bara en minimering av en funktion. Föreställ dig att $f(x)$ beskriver summan av alla misstag en mjukvara presterar med inställningen $x$, isåfall kan vi hitta en mycket bra inställning av mjukvaran genom att hitta funktionens minpunkter. $x$ kommer dock inte vara en [skalär][1], utan en [vektor][2] med tusentals eller miljontals komponenter.\n",
    "\n",
    "Titta på minst en av videofilmerna nedan.\n",
    "\n",
    "|Elon Musk's 'Dota 2' Experiment is Disrupting Esports in a Big Way|Meet the dazzling flying machines of the future|\n",
    "|:-|:-|\n",
    "|[![][img1]][vid1]|[![][img2]][vid2]|\n",
    "|*YouTube: En artificiell intelligens har besegrat Dota2 proffs i dueller (Augusti 2017).*|*YouTube: De flesta quadrokoptrar styrs med hjälp av AI, tränad med ML.*|\n",
    "\n",
    "|Real-Time Facial Expression Transfer|A.I. Experiments: Giorgio Cam|\n",
    "|:-|:-|\n",
    "|[![][img3]][vid3]|[![][img4]][vid4]|\n",
    "|*YouTube: En AI har lärt sig att låtsas koppla en skådespelares ansiktsuttryck till ett annat ansikte enbart med hjälp av videomaterial på personerna.*|*YouTube: Mjukvara kan smidigt använda sig av AI tillgänglig över internet för att känna igen föremål i bilder, översätta språk och mycket mera.*|\n",
    "\n",
    "[1]: https://en.wikipedia.org/wiki/Scalar_(mathematics)\n",
    "[2]: https://en.wikipedia.org/wiki/Vector_(mathematics_and_physics)\n",
    "\n",
    "[img1]: https://img.youtube.com/vi/jAu1ZsTCA64/0.jpg\n",
    "[vid1]: https://www.youtube.com/watch?v=jAu1ZsTCA64\n",
    "[img2]: https://img.youtube.com/vi/RCXGpEmFbOw/0.jpg\n",
    "[vid2]: https://www.youtube.com/watch?v=RCXGpEmFbOw\n",
    "[img3]: https://img.youtube.com/vi/mkI6qfpEJmI/0.jpg\n",
    "[vid3]: https://www.youtube.com/watch?v=mkI6qfpEJmI\n",
    "[img4]: https://img.youtube.com/vi/eKeI63VSpto/0.jpg\n",
    "[vid4]: https://www.youtube.com/watch?v=eKeI63VSpto&list=PLOU2XLYxmsIKubpTZNmgNKL6ToSQ1pWmy&index=2"
   ]
  },
  {
   "cell_type": "markdown",
   "metadata": {},
   "source": [
    "### Fråga 1\n",
    "\n",
    "> __Fråga:__ Besvara frågorna i svarscellen nedan, dubbelklicka på cellen för att börja skriva och kör cellen för att presentera resultatet.\n",
    "\n",
    "* Vilka filmer såg du?\n",
    "* Vad skulle du vilja använda AI till?"
   ]
  },
  {
   "cell_type": "markdown",
   "metadata": {
    "collapsed": true,
    "deletable": false,
    "nbgrader": {
     "checksum": "37bae70f1e643e91a50f64449d813d81",
     "grade": true,
     "grade_id": "thoughts",
     "locked": false,
     "points": 1,
     "schema_version": 1,
     "solution": true
    }
   },
   "source": [
    "### Svar\n",
    "\n",
    "Här skriver du ditt svar."
   ]
  },
  {
   "cell_type": "markdown",
   "metadata": {},
   "source": [
    "# Let's go!\n",
    "Nu ska du få börja koda! Du kommer få testa och lära dig om _gradient descent_ (GD). Algoritmen hjälper dig att hitta en funktions minimipunkter, och är en mycket bra och välanvänd strategi för maskininlärning - du kan träna upp en AI med den."
   ]
  },
  {
   "cell_type": "markdown",
   "metadata": {},
   "source": [
    "### Kodkomplettering 1\n",
    "\n",
    "> __Kodkomplettering:__ Här ska du skriva och testköra kod utifrån instruktioner.\n",
    "\n",
    "Vi behöver en funktion med ett antal minimipunkter att testa algoritmen på.\n",
    "\n",
    "Definiera pythonfunktion `f` så att den beter sig precis som den matematiska funktionen $f(x, y)$ nedan. Använd dig av `numpy` bibliotekets funktioner `np.sin`, `np.cos` och `np.exp` tillsammans med Pythons `**` operator (`x**2`$=x^2$).\n",
    "\n",
    "$$f(x, y) = \\sin(\\,({\\frac{x}{2}-2})^2 + (\\frac{y}{2}-2)^2\\,) \\cdot \\cos(\\,x-y+e^{-y}\\,)$$"
   ]
  },
  {
   "cell_type": "code",
   "execution_count": null,
   "metadata": {},
   "outputs": [],
   "source": [
    "import numpy as np\n",
    "from simulation import Sim\n",
    "sim = Sim()"
   ]
  },
  {
   "cell_type": "code",
   "execution_count": null,
   "metadata": {
    "deletable": false,
    "nbgrader": {
     "checksum": "d72ec573c8fe8fbe9646f75c603c745a",
     "grade": false,
     "grade_id": "answer_function_definition",
     "locked": false,
     "schema_version": 1,
     "solution": true
    }
   },
   "outputs": [],
   "source": [
    "def f(x, y):\n",
    "    \"\"\"The function to investigate described above, it should returns\n",
    "    a value for all numerical inputs x and y.\"\"\"\n",
    "    # YOUR CODE HERE\n",
    "    raise NotImplementedError() # remove me"
   ]
  },
  {
   "cell_type": "code",
   "execution_count": null,
   "metadata": {
    "deletable": false,
    "editable": false,
    "nbgrader": {
     "checksum": "7ac309b21abd7c9a0e6b8f5d1aae77c6",
     "grade": true,
     "grade_id": "tests_function_definition",
     "locked": true,
     "points": 3,
     "schema_version": 1,
     "solution": false
    }
   },
   "outputs": [],
   "source": [
    "# Test and visualize your code as a 3D graph.\n",
    "# - Two dimensions represents the inputs x and y, and the third represents\n",
    "#   the output z = f(x,y)\n",
    "sim.setup_f(f)\n",
    "sim.run(show_2d=False)"
   ]
  },
  {
   "cell_type": "markdown",
   "metadata": {},
   "source": [
    "### Studiestund 1\n",
    "\n",
    "> __Studiestund__: Stanna till och lär dig om relevant material inför kommande uppgifter.\n",
    "\n",
    "Innan vi fortsätter behöver vi utvidga våra kunskaper från Matte 3 och lära oss om _funktioner av flera variabler_, _partiell derivata_ och _gradienter_."
   ]
  },
  {
   "cell_type": "markdown",
   "metadata": {},
   "source": [
    "####  Funktioner av flera variabler\n",
    "\n",
    "En _definitionsmängd_ eller en _domän_ är inom matematiken mängden av alla möjliga värden du kan stoppa in i en funktion, och en _värdemängd_ är alla värden du kan få av en funktionen.\n",
    "\n",
    "> __Förstår du?__\n",
    "\n",
    "> Vad har denna funktion tänkt att ha för definitionsmängd och värdemängd? Vad kan du stoppa in i funktionen, och vad kan du få ut från funktionen?\n",
    "> ```python\n",
    "def getWordLength(word):\n",
    "    return len(word)\n",
    ">```\n",
    "\n",
    "Vissa funktioner har en flerdimensionell definitionsmängd och tar emot flera variabler. Funktionerna $g$ och $h$ har exempelvis definitionsmängder som är två- och tredimensionella.\n",
    "\n",
    "\\begin{align}\n",
    "f(x)     & = x^2         & f(2)     & = 4  \\\\\n",
    "g(x,y)   & = x^2+y^2     & f(2,3)   & = 13 \\\\\n",
    "h(x,y,z) & = x^2+y^2+z^2 & f(2,3,4) & = 29 \\\\\n",
    "\\end{align}\n",
    "\n",
    "> __Förstår du?__\n",
    "\n",
    "> Är $g(x,y)$ och $h(x,y,z)$:s _värdemängder_ endimensionella eller flerdimensionella?\n",
    ">\n",
    "> $f(x)$ och $g(x,y)$:s definitionsmängd kan motsvaras av en linje och en yta, vad kan $ħ(x,y,z)$:s definitionsmängd motsvaras av?\n",
    "\n",
    "#### Partiell derivata och gradienter\n",
    "\n",
    "Tänk dig att du är en robotmyra utan syn på en spishäll och enbart kan mäta temperaturen precis du står. Du behöver ta dig till säkerhet och går sönder om du går över en varm spisplatta. Tänk på temperaturen som funktionen $T(x,y)$. Som handlingskraftig robotmyra sträckte du __fram__ ett av dina ben och märkte att temperaturen __ökade med en grad__. Du stod kvar och sträckte ut ett myrben åt __höger__ och märkte att temperaturen __minskade med en grad__. Som robotmyra undersökte du precis temperaturfunktions _partiella derivata_ för där du står just nu, du fick två värden, en för varje dimension du kan röra dig i. Om du kan lista ut vilket håll du borde undvika att gå mot, där temperaturen ökar som mest, har du även hittat riktningen på _gradienten_.\n",
    "\n",
    "> __Förstår du?__\n",
    "\n",
    "> Vilket håll bör myran gå åt för undvika värmen?\n",
    "\n",
    "Titta nu på följande film och besvara därefter några kontrollfrågor."
   ]
  },
  {
   "cell_type": "markdown",
   "metadata": {},
   "source": [
    "|Gradients and Partial Derivatives|\n",
    "|:-|\n",
    "|[![](https://img.youtube.com/vi/GkB4vW16QHI/0.jpg)](https://www.youtube.com/watch?v=GkB4vW16QHI)|\n",
    "|*YouTube: Lär dig om [partiell derivata](https://sv.wikipedia.org/wiki/Partiell_derivata) och [gradientvektorer](https://sv.wikipedia.org/wiki/Gradient) $\\nabla f = (\\frac{\\partial f}{\\partial x}, \\frac{\\partial f}{\\partial y})$*|"
   ]
  },
  {
   "cell_type": "markdown",
   "metadata": {},
   "source": [
    "### Fråga 2\n",
    "I bilden ovan ser vi en funktion $z=h(x,y)$ representerad som en yta (2D) i en volym (3D). Föreställ dig att du är en robotmyra på den ytan.\n",
    "- a) Beskriv vart du skulle gå om du följde gradienten och stod i en backe.\n",
    "- b) Beskriv vart du skulle gå om du följde gradienten och stod på en kulles topp.\n",
    "- c) Beskriv vad det engelska ordet *descent* betyder och gissa hur algoritmen _gradient descent_ fungerar."
   ]
  },
  {
   "cell_type": "markdown",
   "metadata": {
    "deletable": false,
    "nbgrader": {
     "checksum": "67e81478ca6d3e99e9154c9512f2075f",
     "grade": true,
     "grade_id": "gradient_conceptuality",
     "locked": false,
     "points": 5,
     "schema_version": 1,
     "solution": true
    }
   },
   "source": [
    "### Svar\n",
    "\n",
    "Här skriver du ditt svar."
   ]
  },
  {
   "cell_type": "markdown",
   "metadata": {},
   "source": [
    "### Kodkomplettering 2\n",
    "*Gradient descent* bygger på att vi kan promenera antiparallellt (åt andra hållet) till gradienten, och gradienten som är en vektor, kan bestämmas om vi känner till de partiella derivatorna. Vi kan beräkna de partiella derivatorna ungefärligt med ett litet värde på $h$ på följande sätt.\n",
    "\n",
    "$$\\frac{\\partial f}{\\partial x} \\approx \\frac{f(x+h, y) - f(x-h, y)}{2h}$$\n",
    "\n",
    "$$\\frac{\\partial f}{\\partial y} \\approx \\frac{f(x, y+h) - f(x, y-h)}{2h}$$\n",
    "\n",
    "Vi använder oss av en så kallad *central differenskvot* - central eftersom vi tittar på ett funktionsvärde till både vänster och höger om en punkt, och differenskvot för att det är en kvot vars täljare och nämnare består av differenser. Centrala differenskvoter är lämpliga att använda för att uppskatta derivata numeriskt.\n",
    "\n",
    "Ditt uppdrag är att komplettera funktionerna nedan, så att de numeriskt beräknar de partiella derivatorna för funktionen `f`."
   ]
  },
  {
   "cell_type": "code",
   "execution_count": null,
   "metadata": {
    "deletable": false,
    "nbgrader": {
     "checksum": "500486a29b408423ca870bd8f1771760",
     "grade": false,
     "grade_id": "answer_partial_derivatives",
     "locked": false,
     "schema_version": 1,
     "solution": true
    }
   },
   "outputs": [],
   "source": [
    "h = 0.001\n",
    "def df_dx(x, y):\n",
    "    \"\"\"Return an approximate value for the partial derivative of the function f with respect to x, as described above.\"\"\"\n",
    "    # YOUR CODE HERE\n",
    "    raise NotImplementedError() # remove me\n",
    "def df_dy(x, y):\n",
    "    \"\"\"Return an approximate value for the partial derivative of the function f with respect to y, as described above.\"\"\"\n",
    "    # YOUR CODE HERE\n",
    "    raise NotImplementedError() # remove me"
   ]
  },
  {
   "cell_type": "code",
   "execution_count": null,
   "metadata": {
    "deletable": false,
    "editable": false,
    "nbgrader": {
     "checksum": "f3f6b354c8f7632c2ce4cd51f7856bac",
     "grade": true,
     "grade_id": "tests_partial_derivatives",
     "locked": true,
     "points": 3,
     "schema_version": 1,
     "solution": false
    }
   },
   "outputs": [],
   "source": [
    "# Test and visualize your code, the arrows are created using df_dx and df_dy.\n",
    "sim.setup_grad_f(df_dx, df_dy)\n",
    "sim.run(show_3d=False)"
   ]
  },
  {
   "cell_type": "markdown",
   "metadata": {},
   "source": [
    "### Fråga 4\n",
    "Ovan ser du förhoppningsvis nu ett [färgdiagram][1] (heat map) där röda färger motsvarar höga funktionsvärden och blåa färger motsvarar låga. I diagrammet finns även [konturlinjer (också kallat *isaritmer* och *isolinjer*)][2].\n",
    "\n",
    "* a) Beskriv vad vektorerna (pilarna) motsvarar.\n",
    "* b) Beskriv hur pilarna pekar kring extrempunkterna.\n",
    "* c) Om du gjort rätt kommer pilarna inte peka längst med konturlinjerna, varför inte?\n",
    "\n",
    "[1]: https://sv.wikipedia.org/wiki/F%C3%A4rgdiagram\n",
    "[2]: https://sv.wikipedia.org/wiki/Isaritm"
   ]
  },
  {
   "cell_type": "markdown",
   "metadata": {
    "collapsed": true,
    "deletable": false,
    "nbgrader": {
     "checksum": "d9bece3ecf5049216ddedad5d30116cf",
     "grade": true,
     "grade_id": "cell-f06c84cb821ed24e",
     "locked": false,
     "points": 3,
     "schema_version": 1,
     "solution": true
    }
   },
   "source": [
    "### Svar\n",
    "\n",
    "Här skriver du ditt svar."
   ]
  },
  {
   "cell_type": "markdown",
   "metadata": {},
   "source": [
    "### Studiestund 2\n",
    "\n",
    "Nu är du redo för själva gradient descent algoritmen.\n",
    "\n",
    "> __Gradient descent:__ att ta steg efter steg i en funktions definitionsmängd motriktat gradienten [proportionella][1] till gradientens storlek tills du tar så små steg att du anser dig framme eller helt enkelt tagit för många.\n",
    "\n",
    "Algoritmens möjlighet att hitta minimivärden för funktioner är otroligt betydelsefull för maskininlärning (ML) och har gett upphov till en mängd AI. Allt genom att minimera funktioner.\n",
    "\n",
    "Du har kanske hört talas om neurala nätverk (neural networks - NN), som eventuellt är stora/djupa (deep neural networks - DNN), eller har en viss struktur (convolutional neural networks - CNN)? Alla neurala nätverk måste få sina reglage som avgör hur de beter sig inställda, gradient descent kan hitta bra inställningar på dessa genom att minimera den hundratusentalsdimensionella funktionen som beskriver alla fel nätverket gjort på tusentals övningsexempel.\n",
    "\n",
    "Titta på den andra filmen __mellan 5:21 och 12:18__ så får du en välpresenterad förklaring av gradient descent, skulle du titta på båda filmerna får du en inblick i neurala nätverk.\n",
    "\n",
    "But what *is* a neural network? &#124; Deep learning, Part 1|Gradient descent, how neural networks learn &#124; Deep learning, Part 2\n",
    ":-|:-\n",
    "[![][img1]][vid1]|[![][img2]][vid2]\n",
    "*YouTube: Del 1 i serien om neurala nätverk.*|*YouTube: Från 5:21 till 12:18 i filmen får du lära dig det du behöver veta om algoritmen gradient descent. Del 2 i serien om neurala nätverk.*\n",
    "\n",
    "[1]: https://sv.wikipedia.org/wiki/Proportionalitet_(matematik)\n",
    "\n",
    "[img1]: https://img.youtube.com/vi/aircAruvnKk/maxresdefault.jpg\n",
    "[vid1]: https://www.youtube.com/watch?v=aircAruvnKk&list=PLZHQObOWTQDNU6R1_67000Dx_ZCJB-3pi&index=1\n",
    "[img2]: https://img.youtube.com/vi/IHZwWFHWa-w/maxresdefault.jpg\n",
    "[vid2]: https://www.youtube.com/watch?v=IHZwWFHWa-w&index=2&list=PLZHQObOWTQDNU6R1_67000Dx_ZCJB-3pi&t=5m21s"
   ]
  },
  {
   "cell_type": "markdown",
   "metadata": {},
   "source": [
    "### Fråga 3\n",
    "* a) Gradient descent hjälper oss att hitta en minimipunkt, är den globala eller lokal?\n",
    "* b) Hur många dimensioner har gradientvektorerna till f(x,y)=z och varför?\n",
    "* c) Låt oss anta att du känner till gradienten av funktionen för en punkt där du är nu, åt vilket håll bör du försöka gå för att hitta en minimipunkt?"
   ]
  },
  {
   "cell_type": "markdown",
   "metadata": {
    "deletable": false,
    "nbgrader": {
     "checksum": "a41431cf300ec8bdf9db635cfbc30634",
     "grade": true,
     "grade_id": "gradient_descent",
     "locked": false,
     "points": 3,
     "schema_version": 1,
     "solution": true
    }
   },
   "source": [
    "### Svar\n",
    "\n",
    "Här skriver du ditt svar."
   ]
  },
  {
   "cell_type": "markdown",
   "metadata": {},
   "source": [
    "### Kodkomplettering 3\n",
    "\n",
    "Du ska nu skapa en funktion som tar __ett__ steg i definitionsmängden av funktionen $f(x,y)$ i motsatt riktning till gradienten och anpassar det stegets längd utifrån hur lång gradientvektorn är samt en konstant $\\alpha$ (alpha) som vi kan kalla för en _steglängdsfaktor_ (step size multiplier / the learning rate). Ett högt alpha värde gör att vi raskt rör oss mot minimipunkten. Här är en beskrivning över vad din kod ska göra.\n",
    "\n",
    "\\begin{align}\n",
    "\\text{new_x} \\gets x - \\alpha \\cdot \\frac{\\partial f}{\\partial x}(x, y)\\\\\n",
    "\\\\\n",
    "\\text{new_y} \\gets y - \\alpha \\cdot \\frac{\\partial f}{\\partial y}(x, y)\\\\\n",
    "\\end{align}\n",
    "\n",
    "Funktionen `gradient_descent_step` ska även räkna ut hur långt det föreslagna steget var, detta kan göras med pythagoras sats och [`np.sqrt`][1] eller med [`np.linalg.norm`][2].\n",
    " \n",
    "[1]: https://docs.scipy.org/doc/numpy-1.13.0/reference/generated/numpy.sqrt.html\n",
    "[2]: https://docs.scipy.org/doc/numpy-1.13.0/reference/generated/numpy.linalg.norm.html"
   ]
  },
  {
   "cell_type": "code",
   "execution_count": null,
   "metadata": {
    "deletable": false,
    "nbgrader": {
     "checksum": "3f0bda863f85d664dc5a1f762274f378",
     "grade": false,
     "grade_id": "answer_gradient_descent_step",
     "locked": false,
     "schema_version": 1,
     "solution": true
    }
   },
   "outputs": [],
   "source": [
    "alpha = 0.2\n",
    "def gradient_descent_step(x, y, alpha=alpha):\n",
    "    # YOUR CODE HERE\n",
    "    raise NotImplementedError() # remove me\n",
    "    return new_x, new_y, step_size"
   ]
  },
  {
   "cell_type": "code",
   "execution_count": null,
   "metadata": {
    "deletable": false,
    "editable": false,
    "nbgrader": {
     "checksum": "271d1e2a407c42e3edf3081471b6a970",
     "grade": true,
     "grade_id": "tests_gradient_descent_step",
     "locked": true,
     "points": 5,
     "schema_version": 1,
     "solution": false
    }
   },
   "outputs": [],
   "source": [
    "# Verify you got it right\n",
    "sim.setup_gds(gradient_descent_step)"
   ]
  },
  {
   "cell_type": "markdown",
   "metadata": {},
   "source": [
    "# Resultat\n",
    "Testköra och experimentera med algoritmen med denna kod som bygger på det du gjort tidigiare."
   ]
  },
  {
   "cell_type": "code",
   "execution_count": null,
   "metadata": {},
   "outputs": [],
   "source": [
    "# Experiment with these values\n",
    "# - Add/move starting points to find all minima in between (0,0) and (5,5)\n",
    "# - Analyze what happens with a large step size multiplier (alpha).\n",
    "starting_points = [(2, 2)]\n",
    "alpha = 0.2                \n",
    "min_step_size = 0.001\n",
    "max_steps = 100\n",
    "\n",
    "# ------------------------------------------------------------------------------\n",
    "\n",
    "# Runs gradient descent until our steps becomes too small (< min_step_size) or\n",
    "# we have taken the maximum amount of steps\n",
    "sim.gd_trails = []\n",
    "for starting_point in starting_points:\n",
    "    x, y = starting_point\n",
    "    gd_trail = np.array([[x, y, f(x,y)]])\n",
    "    latest_step_length = np.inf\n",
    "\n",
    "    while latest_step_length > min_step_size and len(gd_trail) <= max_steps:\n",
    "        x, y, latest_step_length = gradient_descent_step(x, y, alpha=alpha)\n",
    "        gd_trail = np.append(gd_trail, [[x, y, f(x,y)]], axis=0)\n",
    "\n",
    "    sim.gd_trails.append(gd_trail)\n",
    "    print('Ran GD from f({:.2f}, {:.2f})={:5.2f} to f({:.2f}, {:.2f})={:5.2f} after {} steps.'.format(*gd_trail[0,:], *gd_trail[-1,:], len(gd_trail)))\n",
    "\n",
    "sim.run()"
   ]
  },
  {
   "cell_type": "markdown",
   "metadata": {},
   "source": [
    "### Fråga 5\n",
    "Undersök på egen hand och försök besvara följande frågor.\n",
    "\n",
    "- a) Hur många minimipunkter mellan (0,0) och (5,5) fanns det och vilken har högst funktionsvärde? ( $f(x,y)=z$ )\n",
    "- b) Undersök och beskriv för och nackdelar med låga och höga värden på steglängdsfaktorn (alpha).\n",
    "- c) Undersök och beskriv för och nackdelar med låga och höga värden på `min_step_size`?"
   ]
  },
  {
   "cell_type": "markdown",
   "metadata": {
    "deletable": false,
    "nbgrader": {
     "checksum": "3b6b52456df797e7042eaf129954fb24",
     "grade": true,
     "grade_id": "exploration",
     "locked": false,
     "points": 3,
     "schema_version": 1,
     "solution": true
    }
   },
   "source": [
    "### Svar\n",
    "\n",
    "Här skriver du ditt svar."
   ]
  },
  {
   "cell_type": "markdown",
   "metadata": {},
   "source": [
    "# Avslutning\n",
    "Grattis! Är du klar?\n",
    "\n",
    "### Kontrollera din kod\n",
    "Testkör din kod __Kernel > Restart & Run all__ i menyraden och __Validate__ knappen i verktygsraden.\n",
    "\n",
    "### Maila din mattelärare\n",
    "Få en kopia på ditt arbete genom __File > Download as > HTML (.html)__, maila din mattelärare och visa upp att du genomfört labben!"
   ]
  },
  {
   "cell_type": "markdown",
   "metadata": {},
   "source": [
    "# Fortsättning\n",
    "Det finns mycket att lära sig inom ML/AI. Här är tips på fortsättningar."
   ]
  },
  {
   "cell_type": "markdown",
   "metadata": {},
   "source": [
    "### Använd befintlig AI\n",
    "Du behöver inte lära dig ML och träna din egen AI - du kan använda befintlig AI genom av fritt tillgängliga [APIer](https://sv.wikipedia.org/wiki/Application_Programming_Interface).\n",
    "\n",
    "|A.I. Experiments|Getting Started in 3 Minutes with API.AI|\n",
    "|:-|:-|\n",
    "|[![](https://img.youtube.com/vi/oOwfiYnRi5c/0.jpg)](https://www.youtube.com/watch?v=oOwfiYnRi5c&list=PLOU2XLYxmsIKubpTZNmgNKL6ToSQ1pWmy)|[![](https://img.youtube.com/vi/Om7tyGGemXI/0.jpg)](https://www.youtube.com/watch?v=Om7tyGGemXI)\n",
    "|*YouTube playlist: Flera av apparna som demonstreras använder sig av APIer.*|*YouTube: api.ai hjälper din mjukvara att ta beslut utifrån vad användaren säger.*|"
   ]
  },
  {
   "cell_type": "markdown",
   "metadata": {},
   "source": [
    "### Python\n",
    "Alla programmeringsspråk kan använda ML, men det är till Python som det utvecklas mest spännande stödbibliotek just nu.\n",
    "\n",
    "Python - Basics|Python - Intermediate\n",
    ":-|:-\n",
    "[![](https://img.youtube.com/vi/IX6mc9l6tY4/0.jpg)](https://pythonprogramming.net/introduction-to-python-programming/)|[![](https://img.youtube.com/vi/YSe9Tu_iNQQ/0.jpg)](https://pythonprogramming.net/introduction-intermediate-python-tutorial/)\n",
    "*Kurs och YouTube playlist: En grundkurs i Python.*|*Kurs och YouTube playlist: En fortsättningskurs i Python.*"
   ]
  },
  {
   "cell_type": "markdown",
   "metadata": {},
   "source": [
    "### Grunderna i ML\n",
    "Vill du använda ML för att träna en AI på egen hand? Då kan vara bra att börja här. Skapa dig en en översikt av ML innan du beger sig in i de mer avancerade teknikerna och lär dig vad *Supervised* respektive *Unsupervised learning* innebär exempelvis. I dessa filmer stöter du på grundtekniker såsom *linear regression*, *support vector machines*, *decision trees* med mera.\n",
    "\n",
    "Python - Machine Learning|Machine Learning Recipes\n",
    ":-|:-\n",
    "[![](https://img.youtube.com/vi/OGxgnH8y2NM/0.jpg)](https://pythonprogramming.net/machine-learning-tutorial-python-introduction/)|[![](https://img.youtube.com/vi/cKxRvEZd3Mw/0.jpg)](https://www.youtube.com/watch?v=cKxRvEZd3Mw&list=PLRAcvynLm0SCOJ7Ik3Q58-DTOKgY5h0Ky)\n",
    "*Kurs och YouTube playlist: En grundkurs i ML.*|*YouTube playlist: Kort och praktiskt - en kokbok för ML.*"
   ]
  },
  {
   "cell_type": "markdown",
   "metadata": {},
   "source": [
    "### Avancerat: Neurala nätverk, *deep learning* och matematik\n",
    "Det finns många varianter av ML, och de har sina styrkor och svagheter. Neurala nätverk ligger som grund till några av de mest avancerade ML teknikerna i skrivande stund.\n",
    "\n",
    "Neural networks|The Math of Intelligence\n",
    ":-|:-\n",
    "[![](https://img.youtube.com/vi/aircAruvnKk/0.jpg)](https://www.youtube.com/watch?v=aircAruvnKk&list=PLZHQObOWTQDNU6R1_67000Dx_ZCJB-3pi)|[![](https://img.youtube.com/vi/xRJCOz3AfYY/0.jpg)](https://www.youtube.com/watch?v=xRJCOz3AfYY&list=PL2-dafEMk2A7mu0bSksCGMJEmeddU_H4D)\n",
    "*YouTube playlist: Ger insikt om neurala nätverk.*|*YouTube playlist: Teoretiskt om matematiken i ML.*\n",
    "\n",
    "Neural Networks Demystified|Learning To See\n",
    ":-|:-\n",
    "[![](https://img.youtube.com/vi/bxe2T-V8XRs/0.jpg)](https://www.youtube.com/watch?v=bxe2T-V8XRs&list=PLiaHhY2iBX9hdHaRr6b7XevZtgZRa1PoU)|[![](https://img.youtube.com/vi/i8D90DkCLhI/0.jpg)](https://www.youtube.com/watch?v=i8D90DkCLhI&list=PLiaHhY2iBX9ihLasvE8BKnS2Xg8AhY6iV)\n",
    "*YouTube playlist: Ger teknisk och matematisk bakom hur neurala nätverk fungerar.*|*YouTube playlist: Om utmaningar och lösningar för att träna en dator att räkna fingrar.*"
   ]
  }
 ],
 "metadata": {
  "kernelspec": {
   "display_name": "Python 3",
   "language": "python",
   "name": "python3"
  },
  "language_info": {
   "codemirror_mode": {
    "name": "ipython",
    "version": 3
   },
   "file_extension": ".py",
   "mimetype": "text/x-python",
   "name": "python",
   "nbconvert_exporter": "python",
   "pygments_lexer": "ipython3",
   "version": "3.6.3"
  }
 },
 "nbformat": 4,
 "nbformat_minor": 2
}
