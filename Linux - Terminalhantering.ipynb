{
 "cells": [
  {
   "cell_type": "markdown",
   "metadata": {},
   "source": [
    "# Linux - Grunder\n",
    "I operativsystemet Linux använder man ofta terminaler, i denna kodlabb ska du få lära dig några grundläggande kommandon. Gör dessa övningar!\n",
    "\n",
    "#### Steg 1\n",
    "[Öppna ett terminalfönster](/user/redirect/terminals/0) och placera det sida vid sida med detta.\n",
    "\n",
    "#### Steg 2 - pwd\n",
    "Skriv och kör kommandot `pwd`. Står det `/home/jovyan`? Det är vart du är i hårddisken just nu. Du är isåfall i mappen `jovyan` som ligger i mappen `home`. Mappen motsvarar `C:/Users/jovyan` på windows.\n",
    "\n",
    "#### Steg 3 - ls\n",
    "Skriv och kör kommandot `ls`. Kommandot listar alla mappar och filer i mappen du är i just nu.\n",
    "\n",
    "#### Steg 4 - mkdir\n",
    "Skriv och kör kommandot `mkdir testmapp`. Vad tror du kommandot gör? Testa och kör `ls` igen och se om något har hänt.\n",
    "\n",
    "#### Steg 5 - cd\n",
    "Skriv och kör kommandot `cd testmapp`. Vad tror du kommandot gör? Testa och kör `ls` igen och se om något har hänt. Testa och kör `cd ..` och kör `ls` igen därefter. Kan du gissa vad som hänt?\n",
    "\n",
    "#### Steg 6 - rm\n",
    "Städa nu upp efter dig genom att först placera dig i mappen `/home/jovyan` med `cd`-kommandot och ta bort testmappen du skapade med hjälp av `rm`-kommandot.\n"
   ]
  },
  {
   "cell_type": "code",
   "execution_count": null,
   "metadata": {},
   "outputs": [],
   "source": []
  }
 ],
 "metadata": {
  "kernelspec": {
   "display_name": "Python 3",
   "language": "python",
   "name": "python3"
  },
  "language_info": {
   "codemirror_mode": {
    "name": "ipython",
    "version": 3
   },
   "file_extension": ".py",
   "mimetype": "text/x-python",
   "name": "python",
   "nbconvert_exporter": "python",
   "pygments_lexer": "ipython3",
   "version": "3.6.3"
  }
 },
 "nbformat": 4,
 "nbformat_minor": 2
}
