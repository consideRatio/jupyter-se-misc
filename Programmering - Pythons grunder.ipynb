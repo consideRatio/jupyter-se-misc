{
 "cells": [
  {
   "cell_type": "markdown",
   "metadata": {
    "hideCode": false,
    "hidePrompt": false
   },
   "source": [
    "# Programmering\n",
    "\n",
    "Programmering är som att använda en väldigt avancerad miniräknare.\n",
    "\n",
    "Ett program säger åt datorn vad som ska räknas ut.\n",
    "\n",
    "I rutan nedanför visas ett program."
   ]
  },
  {
   "cell_type": "code",
   "execution_count": null,
   "metadata": {
    "hideCode": false,
    "hidePrompt": false,
    "scrolled": true
   },
   "outputs": [],
   "source": [
    "2+3"
   ]
  },
  {
   "cell_type": "markdown",
   "metadata": {
    "hideCode": false,
    "hidePrompt": false
   },
   "source": [
    "Vi kan _köra_ programmet i rutan ovan genom att\n",
    "+ trycka på ```In``` till vänster om 2+3\n",
    "+ och sedan trycka på knappen Run högre upp.\n",
    "\n",
    "Se bilden.\n",
    "\n",
    "![alttext](bild01.png)"
   ]
  },
  {
   "cell_type": "markdown",
   "metadata": {},
   "source": [
    "När du kör programmet borde du få fram svaret 5."
   ]
  },
  {
   "cell_type": "markdown",
   "metadata": {
    "hideCode": false,
    "hidePrompt": false
   },
   "source": [
    "### Uppgift\n",
    "I rutan nedan skriver du ett program som räknar ut åtta minus fyra."
   ]
  },
  {
   "cell_type": "code",
   "execution_count": null,
   "metadata": {
    "hideCode": false,
    "hidePrompt": false
   },
   "outputs": [],
   "source": []
  },
  {
   "cell_type": "markdown",
   "metadata": {},
   "source": [
    "Glöm inte att köra programmet så att du vet att allt fungerar."
   ]
  },
  {
   "cell_type": "markdown",
   "metadata": {
    "hideCode": false,
    "hidePrompt": false
   },
   "source": [
    "# Skriv ut saker till skärmen\n",
    "\n",
    "När vi programmerar kan \"print\", engelska för skriva ut, användas för att skriva ut något till den som kör programmet. Texten vi vill skriva ut måste stå inom parenteser ```()``` och även inom citationstecken ```\" \"```.\n",
    "\n",
    "Mellan citationstecknen kan vi skriva det vill skriva ut."
   ]
  },
  {
   "cell_type": "code",
   "execution_count": null,
   "metadata": {
    "hideCode": false,
    "hidePrompt": false,
    "scrolled": true
   },
   "outputs": [],
   "source": [
    "print(\"hej\")"
   ]
  },
  {
   "cell_type": "markdown",
   "metadata": {
    "hideCode": true
   },
   "source": [
    "Testa att köra programmet ovanför."
   ]
  },
  {
   "cell_type": "markdown",
   "metadata": {
    "hideCode": false,
    "hidePrompt": false
   },
   "source": [
    "### Uppgift\n",
    "I rutan nedan skriver du ett program som skriver ut ```Hello, World!```"
   ]
  },
  {
   "cell_type": "code",
   "execution_count": null,
   "metadata": {
    "hideCode": false,
    "hidePrompt": false
   },
   "outputs": [],
   "source": []
  },
  {
   "cell_type": "markdown",
   "metadata": {
    "hideCode": false,
    "hidePrompt": false
   },
   "source": [
    "# Variabler\n",
    "Variabler i programmering fungerar mycket likt hur de fungerar i matematik. I matematiken kanske vi skriver ```x = 7``` för att visa att variabeln x har värdet 7. På samma sätt gör vi programmeringen."
   ]
  },
  {
   "cell_type": "code",
   "execution_count": null,
   "metadata": {
    "hideCode": false,
    "hidePrompt": false
   },
   "outputs": [],
   "source": [
    "x = 7"
   ]
  },
  {
   "cell_type": "markdown",
   "metadata": {
    "hideCode": false,
    "hidePrompt": false
   },
   "source": [
    "Om vi kör ovanstående program (med Run-knappen) skrivs det inte ut något till skärmen. Vi måste använda print för att variabler ska skrivas ut till skärmen.\n",
    "\n",
    "Vill vi skriva ut en variabel gör vi på samma sätt som när vi skrev ut \"hej\", men när vi skriver ut en variabel ska vi INTE skriva med citationstecknen."
   ]
  },
  {
   "cell_type": "code",
   "execution_count": null,
   "metadata": {
    "hideCode": false,
    "hidePrompt": false
   },
   "outputs": [],
   "source": [
    "x = 7\n",
    "print(x)"
   ]
  },
  {
   "cell_type": "markdown",
   "metadata": {
    "hideCode": false,
    "hidePrompt": false
   },
   "source": [
    "__Kom ihåg: När du använder print på variabler, använd inte citationstecken.__"
   ]
  },
  {
   "cell_type": "markdown",
   "metadata": {},
   "source": [
    "### Uppgift\n",
    "I rutan nedan skriver du ett program som\n",
    "+ skapar en variabel med namnet y som har värdet 140\n",
    "+ skriver ut värdet på variabeln y till skärmen"
   ]
  },
  {
   "cell_type": "code",
   "execution_count": null,
   "metadata": {},
   "outputs": [],
   "source": []
  },
  {
   "cell_type": "markdown",
   "metadata": {
    "hideCode": false,
    "hidePrompt": false
   },
   "source": [
    "### Inte bara siffror i variabler"
   ]
  },
  {
   "cell_type": "markdown",
   "metadata": {
    "hideCode": false,
    "hidePrompt": false
   },
   "source": [
    "En variabel är som en slags \"låda\" i programmet. I lådan kan vi lägga information, och det behöver inte bara vara siffror."
   ]
  },
  {
   "cell_type": "code",
   "execution_count": null,
   "metadata": {
    "hideCode": false,
    "hidePrompt": false
   },
   "outputs": [],
   "source": [
    "dittnamn = \"Kasper\""
   ]
  },
  {
   "cell_type": "markdown",
   "metadata": {
    "hideCode": false,
    "hidePrompt": false
   },
   "source": [
    "```dittnamn``` är alltså namnet på variabeln (lådan).\n",
    "Det vi lägger i lådan är texten ```Kasper```."
   ]
  },
  {
   "cell_type": "code",
   "execution_count": null,
   "metadata": {
    "hideCode": false,
    "hidePrompt": false
   },
   "outputs": [],
   "source": [
    "dittnamn = \"Kasper\"\n",
    "print(\"Hej på dig\")\n",
    "print(dittnamn)"
   ]
  },
  {
   "cell_type": "markdown",
   "metadata": {
    "hideCode": false,
    "hidePrompt": false
   },
   "source": [
    "# Användaren får mata in data\n",
    "Om vi vill att användaren av programmet själv ska kunna skriva in vad den heter kan vi använda oss utav input()"
   ]
  },
  {
   "cell_type": "code",
   "execution_count": null,
   "metadata": {
    "hideCode": false,
    "hidePrompt": false,
    "scrolled": true
   },
   "outputs": [],
   "source": [
    "dittnamn = input(\"Vad heter du?\")\n",
    "print(\"Hej på dig\")\n",
    "print(dittnamn)"
   ]
  },
  {
   "cell_type": "markdown",
   "metadata": {
    "hideCode": false,
    "hidePrompt": false
   },
   "source": [
    "Förut där det stod \"Kasper\" står det nu istället\n",
    "```python\n",
    "input(\"Vad heter du?\")\n",
    "```"
   ]
  },
  {
   "cell_type": "markdown",
   "metadata": {
    "hideCode": false,
    "hidePrompt": false
   },
   "source": [
    "När vi kör programmet kommer användaren att frågas vad den heter. Testa att köra programmet ovan!"
   ]
  },
  {
   "cell_type": "markdown",
   "metadata": {},
   "source": [
    "### Uppgift\n",
    "I rutan nedan skriver du ett program som\n",
    "+ frågar efter användarens namn (tips: använd ```input()```)\n",
    "+ det användaren matade in som namn ska sparas i variabeln ```namn```\n",
    "+ skriv ut användarens namn till skärmen (tips: det som finns i variabeln ```namn```)"
   ]
  },
  {
   "cell_type": "code",
   "execution_count": null,
   "metadata": {},
   "outputs": [],
   "source": []
  },
  {
   "cell_type": "markdown",
   "metadata": {
    "hideCode": false,
    "hidePrompt": false
   },
   "source": [
    "# Matematik och variabler"
   ]
  },
  {
   "cell_type": "code",
   "execution_count": null,
   "metadata": {
    "hideCode": false,
    "hidePrompt": false
   },
   "outputs": [],
   "source": [
    "x = 7"
   ]
  },
  {
   "cell_type": "markdown",
   "metadata": {
    "hideCode": false,
    "hidePrompt": false
   },
   "source": [
    "Ovanstående program tar värdet sju och lägger det i variabeln (lådan) med namnet x.\n",
    "Alltså, det till höger läggs i det till vänster.\n",
    "Detta gäller även om det är variabler på båda sidor om lika med-tecknet."
   ]
  },
  {
   "cell_type": "code",
   "execution_count": null,
   "metadata": {
    "hideCode": false,
    "hidePrompt": false
   },
   "outputs": [],
   "source": [
    "x = 7\n",
    "y = x\n",
    "print(y)"
   ]
  },
  {
   "cell_type": "markdown",
   "metadata": {
    "hideCode": false,
    "hidePrompt": false
   },
   "source": [
    "Alltså, i den andra kodraden ovan\n",
    "```python\n",
    "y = x\n",
    "```\n",
    "får variabeln y det värde som variabeln x har.\n",
    "Det som står till höger läggs i det som står till vänster."
   ]
  },
  {
   "cell_type": "markdown",
   "metadata": {
    "hideCode": false,
    "hidePrompt": false
   },
   "source": [
    "Även om x byter värde senare i programmet har y fortfarande kvar värdet det fick på rad nummer två."
   ]
  },
  {
   "cell_type": "code",
   "execution_count": null,
   "metadata": {
    "hideCode": false,
    "hidePrompt": false
   },
   "outputs": [],
   "source": [
    "x = 7\n",
    "y = x\n",
    "x = 20\n",
    "print(y)"
   ]
  },
  {
   "cell_type": "markdown",
   "metadata": {
    "hideCode": false,
    "hidePrompt": false
   },
   "source": [
    "Alltså, y har fortfarande värdet 7 när vi skriver ut y på rad fyra. Detta trots att x bytte värde till 20 på rad tre."
   ]
  },
  {
   "cell_type": "markdown",
   "metadata": {
    "hideCode": false,
    "hidePrompt": false
   },
   "source": [
    "## Mer matematik\n",
    "På det som står till höger om lika med-tecknet kan vi räkna vanlig matematik på. Till exempel kan vi sätta x till värdet av sju gånger två."
   ]
  },
  {
   "cell_type": "code",
   "execution_count": null,
   "metadata": {
    "hideCode": false,
    "hidePrompt": false
   },
   "outputs": [],
   "source": [
    "x = 7 * 2\n",
    "print(x)"
   ]
  },
  {
   "cell_type": "markdown",
   "metadata": {
    "hideCode": false,
    "hidePrompt": false
   },
   "source": [
    "Vi kan även använda variabler på höger sida när vi räknar matematik."
   ]
  },
  {
   "cell_type": "code",
   "execution_count": null,
   "metadata": {
    "hideCode": false,
    "hidePrompt": false
   },
   "outputs": [],
   "source": [
    "x = 7 * 2\n",
    "y = x - 2\n",
    "print(y)"
   ]
  },
  {
   "cell_type": "markdown",
   "metadata": {
    "hideCode": false,
    "hidePrompt": false
   },
   "source": [
    "På första raden sätts x till värdet av 7 gånger 2. Alltså får x värdet 14.\n",
    "\n",
    "På andra raden sätts y till värdet av x minus 2. Eftersom x är 14 blir y 12.\n",
    "\n",
    "Därför skrivs 12 ut då vi på rad tre skriver ut värdet av y."
   ]
  },
  {
   "cell_type": "markdown",
   "metadata": {},
   "source": [
    "__Kom ihåg: Det är bara på _höger_ sida om lika med-tecknet du kan skriva matematiska uttryck.\n",
    "På vänster sida ska det bara stå en ensam variabel.__"
   ]
  },
  {
   "cell_type": "markdown",
   "metadata": {},
   "source": [
    "### Uppgift\n",
    "I rutan nedan skriver du ett program som\n",
    "+ skapar en variabel med namnet djup som har värdet 12\n",
    "+ skapar en variabel med namnet bredd som har värdet av djup plus 5\n",
    "+ skriver ut värdet på bredd till skärmen"
   ]
  },
  {
   "cell_type": "code",
   "execution_count": null,
   "metadata": {},
   "outputs": [],
   "source": []
  },
  {
   "cell_type": "markdown",
   "metadata": {
    "hideCode": false,
    "hidePrompt": false
   },
   "source": [
    "# Siffror som indata\n",
    "Om vi vill att användaren ska mata in siffror måste vi köra en liten special-variant. Om vi inte gör det kommer programmet att få fel när vi kör det. Testa att köra programmet nedan och mata in en siffra så borde du få ett felmeddelande."
   ]
  },
  {
   "cell_type": "code",
   "execution_count": null,
   "metadata": {
    "hideCode": false,
    "hidePrompt": false,
    "scrolled": true
   },
   "outputs": [],
   "source": [
    "x = input(\"Vilket värde ska x ha?\")\n",
    "y = x + 5\n",
    "print(y)"
   ]
  },
  {
   "cell_type": "markdown",
   "metadata": {
    "hideCode": false,
    "hidePrompt": false
   },
   "source": [
    "För att kunna läsa siffror som indata måste vi lägga funktionen ```int()``` runt ```input()```, se nedan."
   ]
  },
  {
   "cell_type": "code",
   "execution_count": null,
   "metadata": {
    "hideCode": false,
    "hidePrompt": false
   },
   "outputs": [],
   "source": [
    "x = int(input(\"Vilket värde ska x ha?\"))\n",
    "y = x + 5\n",
    "print(y)"
   ]
  },
  {
   "cell_type": "markdown",
   "metadata": {
    "hideCode": false,
    "hidePrompt": false
   },
   "source": [
    "Vi lägger alltså \n",
    "```python\n",
    "int(\n",
    "```\n",
    "till vänster om input och en extra parentes\n",
    "```python\n",
    ")\n",
    "```\n",
    "till höger."
   ]
  },
  {
   "cell_type": "markdown",
   "metadata": {},
   "source": [
    "### Uppgift\n",
    "I rutan nedan skriver du ett program som\n",
    "+ frågar användaren vad den har för ålder (tips: glöm inte int())\n",
    "+ skriver ut hur gammal användaren är om fem år"
   ]
  },
  {
   "cell_type": "code",
   "execution_count": null,
   "metadata": {},
   "outputs": [],
   "source": []
  }
 ],
 "metadata": {
  "hide_code_all_hidden": false,
  "kernelspec": {
   "display_name": "Python 3",
   "language": "python",
   "name": "python3"
  },
  "language_info": {
   "codemirror_mode": {
    "name": "ipython",
    "version": 3
   },
   "file_extension": ".py",
   "mimetype": "text/x-python",
   "name": "python",
   "nbconvert_exporter": "python",
   "pygments_lexer": "ipython3",
   "version": "3.6.3"
  }
 },
 "nbformat": 4,
 "nbformat_minor": 2
}
